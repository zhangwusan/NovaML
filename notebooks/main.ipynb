{
 "cells": [
  {
   "cell_type": "code",
   "execution_count": 3,
   "id": "52fb010a",
   "metadata": {},
   "outputs": [
    {
     "name": "stdout",
     "output_type": "stream",
     "text": [
      "x: tensor([2., 3.], requires_grad=True)\n",
      "y: tensor([4., 5.], requires_grad=True)\n",
      "z: tensor([32., 60.], grad_fn=<AddBackward0>)\n",
      "x.grad: tensor([16., 20.])\n",
      "y.grad: tensor([ 8., 12.])\n"
     ]
    }
   ],
   "source": [
    "import torch\n",
    "\n",
    "# Create tensors with gradient tracking\n",
    "x = torch.tensor([2.0, 3.0], requires_grad=True)\n",
    "y = torch.tensor([4.0, 5.0], requires_grad=True)\n",
    "\n",
    "# Compute z = 2 * x^2 + 3 * y\n",
    "z = 2 * x*y + 2*x*y\n",
    "\n",
    "# Compute gradients\n",
    "z.backward(torch.ones_like(z))  # default gradient is ones\n",
    "\n",
    "# Print results\n",
    "print(\"x:\", x)\n",
    "print(\"y:\", y)\n",
    "print(\"z:\", z)\n",
    "print(\"x.grad:\", x.grad)\n",
    "print(\"y.grad:\", y.grad)"
   ]
  },
  {
   "cell_type": "code",
   "execution_count": null,
   "id": "8dcba6a1",
   "metadata": {},
   "outputs": [],
   "source": []
  }
 ],
 "metadata": {
  "kernelspec": {
   "display_name": "Python 3",
   "language": "python",
   "name": "python3"
  },
  "language_info": {
   "codemirror_mode": {
    "name": "ipython",
    "version": 3
   },
   "file_extension": ".py",
   "mimetype": "text/x-python",
   "name": "python",
   "nbconvert_exporter": "python",
   "pygments_lexer": "ipython3",
   "version": "3.12.7"
  }
 },
 "nbformat": 4,
 "nbformat_minor": 5
}
