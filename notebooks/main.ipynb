{
 "cells": [
  {
   "cell_type": "code",
   "execution_count": 3,
   "id": "52fb010a",
   "metadata": {},
   "outputs": [
    {
     "name": "stdout",
     "output_type": "stream",
     "text": [
      "x: tensor([2., 3.], requires_grad=True)\n",
      "y: tensor([4., 5.], requires_grad=True)\n",
      "z: tensor([32., 60.], grad_fn=<AddBackward0>)\n",
      "x.grad: tensor([16., 20.])\n",
      "y.grad: tensor([ 8., 12.])\n"
     ]
    }
   ],
   "source": [
    "import torch\n",
    "\n",
    "# Create tensors with gradient tracking\n",
    "x = torch.tensor([2.0, 3.0], requires_grad=True)\n",
    "y = torch.tensor([4.0, 5.0], requires_grad=True)\n",
    "\n",
    "# Compute z = 2 * x^2 + 3 * y\n",
    "z = 2 * x*y + 2*x*y\n",
    "\n",
    "# Compute gradients\n",
    "z.backward(torch.ones_like(z))  # default gradient is ones\n",
    "\n",
    "# Print results\n",
    "print(\"x:\", x)\n",
    "print(\"y:\", y)\n",
    "print(\"z:\", z)\n",
    "print(\"x.grad:\", x.grad)\n",
    "print(\"y.grad:\", y.grad)"
   ]
  },
  {
   "cell_type": "code",
   "execution_count": 4,
   "id": "8dcba6a1",
   "metadata": {},
   "outputs": [
    {
     "name": "stdout",
     "output_type": "stream",
     "text": [
      "Tensor a: tensor([1., 2., 3.], requires_grad=True)\n",
      "Tensor b: tensor([4., 5., 6.], requires_grad=True)\n",
      "Tensor c = a + b: tensor([5., 7., 9.], grad_fn=<AddBackward0>)\n",
      "After backward:\n",
      "Tensor a grad: tensor([1., 1., 1.])\n",
      "Tensor b grad: tensor([1., 1., 1.])\n"
     ]
    }
   ],
   "source": [
    "import torch\n",
    "\n",
    "# Create tensors with gradient tracking\n",
    "a = torch.tensor([1, 2, 3], dtype=torch.float32, requires_grad=True)\n",
    "b = torch.tensor([4, 5, 6], dtype=torch.float32, requires_grad=True)\n",
    "\n",
    "# Perform addition\n",
    "c = a + b\n",
    "\n",
    "# Print forward result\n",
    "print(\"Tensor a:\", a)\n",
    "print(\"Tensor b:\", b)\n",
    "print(\"Tensor c = a + b:\", c)\n",
    "\n",
    "# Backprop\n",
    "c.backward(torch.ones_like(c))  # equivalent to gradient of 1 for each element\n",
    "\n",
    "# Print gradients\n",
    "print(\"After backward:\")\n",
    "print(\"Tensor a grad:\", a.grad)\n",
    "print(\"Tensor b grad:\", b.grad)"
   ]
  },
  {
   "cell_type": "code",
   "execution_count": 7,
   "id": "ac903d1e",
   "metadata": {},
   "outputs": [
    {
     "name": "stdout",
     "output_type": "stream",
     "text": [
      "Forward results:\n",
      "a + b = [5. 7. 9.]\n",
      "a - b = [-3. -3. -3.]\n",
      "\n",
      "Gradients after backward:\n",
      "a.grad = [2. 2. 2.]\n",
      "b.grad = [0. 0. 0.]\n"
     ]
    }
   ],
   "source": [
    "import torch\n",
    "\n",
    "# Create tensors with gradient tracking\n",
    "a = torch.tensor([1.0, 2.0, 3.0], requires_grad=True)\n",
    "b = torch.tensor([4.0, 5.0, 6.0], requires_grad=True)\n",
    "\n",
    "# Forward pass\n",
    "sum_ = a + b\n",
    "diff_ = a - b\n",
    "\n",
    "print(\"Forward results:\")\n",
    "print(\"a + b =\", sum_.detach().numpy())\n",
    "print(\"a - b =\", diff_.detach().numpy())\n",
    "\n",
    "# Backward pass\n",
    "sum_.backward(torch.ones_like(sum_), retain_graph=True)  # propagate grad 1\n",
    "diff_.backward(torch.ones_like(diff_))                  # propagate grad 1\n",
    "\n",
    "print(\"\\nGradients after backward:\")\n",
    "print(\"a.grad =\", a.grad.numpy())\n",
    "print(\"b.grad =\", b.grad.numpy())"
   ]
  },
  {
   "cell_type": "code",
   "execution_count": 8,
   "id": "5b9fb365",
   "metadata": {},
   "outputs": [
    {
     "name": "stdout",
     "output_type": "stream",
     "text": [
      "Addition a+b:\n",
      "Forward: tensor([5., 7., 9.], grad_fn=<AddBackward0>)\n",
      "Grad a: tensor([1., 1., 1.])\n",
      "Grad b: tensor([1., 1., 1.])\n",
      "\n",
      "Subtraction a-b:\n",
      "Forward: tensor([-3., -3., -3.], grad_fn=<SubBackward0>)\n",
      "Grad a: tensor([1., 1., 1.])\n",
      "Grad b: tensor([-1., -1., -1.])\n",
      "\n",
      "Multiplication a*b:\n",
      "Forward: tensor([ 4., 10., 18.], grad_fn=<MulBackward0>)\n",
      "Grad a: tensor([4., 5., 6.])\n",
      "Grad b: tensor([1., 2., 3.])\n",
      "\n",
      "Power a^2:\n",
      "Forward: tensor([1., 4., 9.], grad_fn=<PowBackward0>)\n",
      "Grad a: tensor([2., 4., 6.])\n",
      "\n",
      "Negation -a:\n",
      "Forward: tensor([-1., -2., -3.], grad_fn=<NegBackward0>)\n",
      "Grad a: tensor([1., 3., 5.])\n"
     ]
    }
   ],
   "source": [
    "import torch\n",
    "\n",
    "# Create tensors with requires_grad=True\n",
    "a = torch.tensor([1.0, 2.0, 3.0], requires_grad=True)\n",
    "b = torch.tensor([4.0, 5.0, 6.0], requires_grad=True)\n",
    "\n",
    "# ---------- Addition ----------\n",
    "sum_result = a + b\n",
    "sum_result.backward(torch.ones_like(sum_result))  # propagate gradient\n",
    "print(\"Addition a+b:\")\n",
    "print(\"Forward:\", sum_result)\n",
    "print(\"Grad a:\", a.grad)\n",
    "print(\"Grad b:\", b.grad)\n",
    "\n",
    "# Reset gradients\n",
    "a.grad.zero_()\n",
    "b.grad.zero_()\n",
    "\n",
    "# ---------- Subtraction ----------\n",
    "diff_result = a - b\n",
    "diff_result.backward(torch.ones_like(diff_result))\n",
    "print(\"\\nSubtraction a-b:\")\n",
    "print(\"Forward:\", diff_result)\n",
    "print(\"Grad a:\", a.grad)\n",
    "print(\"Grad b:\", b.grad)\n",
    "\n",
    "# Reset gradients\n",
    "a.grad.zero_()\n",
    "b.grad.zero_()\n",
    "\n",
    "# ---------- Multiplication ----------\n",
    "prod_result = a * b\n",
    "prod_result.backward(torch.ones_like(prod_result))\n",
    "print(\"\\nMultiplication a*b:\")\n",
    "print(\"Forward:\", prod_result)\n",
    "print(\"Grad a:\", a.grad)\n",
    "print(\"Grad b:\", b.grad)\n",
    "\n",
    "# Reset gradients\n",
    "a.grad.zero_()\n",
    "b.grad.zero_()\n",
    "\n",
    "# ---------- Power ----------\n",
    "power_result = a ** 2\n",
    "power_result.backward(torch.ones_like(power_result))\n",
    "print(\"\\nPower a^2:\")\n",
    "print(\"Forward:\", power_result)\n",
    "print(\"Grad a:\", a.grad)\n",
    "\n",
    "# ---------- Negation ----------\n",
    "neg_result = -a\n",
    "neg_result.backward(torch.ones_like(neg_result))\n",
    "print(\"\\nNegation -a:\")\n",
    "print(\"Forward:\", neg_result)\n",
    "print(\"Grad a:\", a.grad)"
   ]
  },
  {
   "cell_type": "code",
   "execution_count": null,
   "id": "277f72ac",
   "metadata": {},
   "outputs": [],
   "source": [
    "import torch\n",
    "\n",
    "a = torch.tensor([1., 2., 3.], requires_grad=True)\n",
    "b = torch.tensor([4., 5., 6.], requires_grad=True)\n",
    "c = torch.tensor([7., 8., 9.], requires_grad=True)\n",
    "\n",
    "result = a + b - c\n",
    "result.backward(torch.ones_like(result))\n",
    "\n",
    "print(\"Forward:\", result)\n",
    "print(\"Grad a:\", a.grad)\n",
    "print(\"Grad b:\", b.grad)\n",
    "print(\"Grad c:\", c.grad)"
   ]
  },
  {
   "cell_type": "code",
   "execution_count": 9,
   "id": "d99c82c1",
   "metadata": {},
   "outputs": [
    {
     "name": "stdout",
     "output_type": "stream",
     "text": [
      "a + scalar -> grad: tensor([1., 1., 1.])\n",
      "scalar + b -> grad: tensor([1., 1., 1.])\n",
      "a - scalar -> grad: tensor([1., 1., 1.])\n",
      "scalar - b -> grad: tensor([-1., -1., -1.])\n",
      "a * scalar -> grad: tensor([10., 10., 10.])\n",
      "scalar * b -> grad: tensor([10., 10., 10.])\n"
     ]
    },
    {
     "data": {
      "text/plain": [
       "tensor([0., 0., 0.])"
      ]
     },
     "execution_count": 9,
     "metadata": {},
     "output_type": "execute_result"
    }
   ],
   "source": [
    "import torch\n",
    "\n",
    "a = torch.tensor([1.0, 2.0, 3.0], requires_grad=True)\n",
    "b = torch.tensor([4.0, 5.0, 6.0], requires_grad=True)\n",
    "scalar = 10.0\n",
    "\n",
    "# Forward\n",
    "r1 = a + scalar\n",
    "r2 = scalar + b\n",
    "r3 = a - scalar\n",
    "r4 = scalar - b\n",
    "r5 = a * scalar\n",
    "r6 = scalar * b\n",
    "\n",
    "# Backward\n",
    "r1.sum().backward()\n",
    "print(\"a + scalar -> grad:\", a.grad)  # Should be [1,1,1]\n",
    "a.grad.zero_()\n",
    "r2.sum().backward()\n",
    "print(\"scalar + b -> grad:\", b.grad)  # Should be [1,1,1]\n",
    "b.grad.zero_()\n",
    "r3.sum().backward()\n",
    "print(\"a - scalar -> grad:\", a.grad)  # Should be [1,1,1]\n",
    "a.grad.zero_()\n",
    "r4.sum().backward()\n",
    "print(\"scalar - b -> grad:\", b.grad)  # Should be [-1,-1,-1]\n",
    "b.grad.zero_()\n",
    "r5.sum().backward()\n",
    "print(\"a * scalar -> grad:\", a.grad)  # Should be [scalar, scalar, scalar] i.e., [10,10,10]\n",
    "a.grad.zero_()\n",
    "r6.sum().backward()\n",
    "print(\"scalar * b -> grad:\", b.grad)  # Should be [10,10,10]\n",
    "b.grad.zero_()"
   ]
  },
  {
   "cell_type": "code",
   "execution_count": 10,
   "id": "7c6de3c2",
   "metadata": {},
   "outputs": [
    {
     "name": "stdout",
     "output_type": "stream",
     "text": [
      "tensor([11., 12., 13.], grad_fn=<AddBackward0>) tensor([14., 15., 16.], grad_fn=<AddBackward0>) tensor([-4., -3., -2.], grad_fn=<SubBackward0>) tensor([ 1.,  0., -1.], grad_fn=<RsubBackward1>) tensor([2., 4., 6.], grad_fn=<MulBackward0>) tensor([ 8., 10., 12.], grad_fn=<MulBackward0>)\n"
     ]
    }
   ],
   "source": [
    "import torch\n",
    "\n",
    "a = torch.tensor([1.,2.,3.], requires_grad=True)\n",
    "b = torch.tensor([4.,5.,6.], requires_grad=True)\n",
    "r1 = a + 10\n",
    "r2 = 10 + b\n",
    "r3 = a - 5\n",
    "r4 = 5 - b\n",
    "r5 = a * 2\n",
    "r6 = 2 * b\n",
    "\n",
    "print(r1, r2, r3, r4, r5, r6)"
   ]
  },
  {
   "cell_type": "code",
   "execution_count": null,
   "id": "0b0d9e9b",
   "metadata": {},
   "outputs": [],
   "source": []
  }
 ],
 "metadata": {
  "kernelspec": {
   "display_name": "Python 3",
   "language": "python",
   "name": "python3"
  },
  "language_info": {
   "codemirror_mode": {
    "name": "ipython",
    "version": 3
   },
   "file_extension": ".py",
   "mimetype": "text/x-python",
   "name": "python",
   "nbconvert_exporter": "python",
   "pygments_lexer": "ipython3",
   "version": "3.12.7"
  }
 },
 "nbformat": 4,
 "nbformat_minor": 5
}
